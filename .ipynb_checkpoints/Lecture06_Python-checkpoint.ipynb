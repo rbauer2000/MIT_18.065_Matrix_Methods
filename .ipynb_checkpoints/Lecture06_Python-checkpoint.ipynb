{
 "cells": [
  {
   "cell_type": "code",
   "execution_count": 1,
   "metadata": {},
   "outputs": [],
   "source": [
    "import numpy as np\n",
    "import math"
   ]
  },
  {
   "cell_type": "code",
   "execution_count": 2,
   "metadata": {},
   "outputs": [
    {
     "data": {
      "text/plain": [
       "array([[5, 0, 3],\n",
       "       [3, 7, 9],\n",
       "       [3, 5, 2],\n",
       "       [4, 7, 6],\n",
       "       [8, 8, 1]])"
      ]
     },
     "execution_count": 2,
     "metadata": {},
     "output_type": "execute_result"
    }
   ],
   "source": [
    "np.random.seed(seed=0)\n",
    "A = np.random.randint(10, size = (5,3))\n",
    "A"
   ]
  },
  {
   "cell_type": "markdown",
   "metadata": {},
   "source": [
    "I want to take $A * A^T$"
   ]
  },
  {
   "cell_type": "code",
   "execution_count": 3,
   "metadata": {},
   "outputs": [
    {
     "data": {
      "text/plain": [
       "(array([ 3.74765993e+02,  1.82512898e+01,  4.79827176e+01, -6.53444319e-16,\n",
       "        -5.60177262e-15]),\n",
       " array([[-0.21225332, -0.95484953,  0.09958505, -0.12489369,  0.03002575],\n",
       "        [-0.56724169,  0.00926204, -0.6194619 , -0.15467747,  0.41739322],\n",
       "        [-0.31008733,  0.24689917,  0.13326169, -0.80388888,  0.43380249],\n",
       "        [-0.51393848,  0.11251445, -0.19265757,  0.53400639, -0.79568304],\n",
       "        [-0.52239686,  0.12065608,  0.74261306,  0.17051775,  0.05987703]]))"
      ]
     },
     "execution_count": 3,
     "metadata": {},
     "output_type": "execute_result"
    }
   ],
   "source": [
    "np.linalg.eig(A.dot(A.transpose())) # I think this works"
   ]
  },
  {
   "cell_type": "code",
   "execution_count": 4,
   "metadata": {},
   "outputs": [],
   "source": [
    "Λ1, U1 = np.linalg.eig(A @ A.transpose()) # this words like above but I like notation better"
   ]
  },
  {
   "cell_type": "code",
   "execution_count": 5,
   "metadata": {},
   "outputs": [
    {
     "data": {
      "text/plain": [
       "(array([ 3.74765993e+02,  1.82512898e+01,  4.79827176e+01, -6.53444319e-16,\n",
       "        -5.60177262e-15]),\n",
       " array([[-0.21225332, -0.95484953,  0.09958505, -0.12489369,  0.03002575],\n",
       "        [-0.56724169,  0.00926204, -0.6194619 , -0.15467747,  0.41739322],\n",
       "        [-0.31008733,  0.24689917,  0.13326169, -0.80388888,  0.43380249],\n",
       "        [-0.51393848,  0.11251445, -0.19265757,  0.53400639, -0.79568304],\n",
       "        [-0.52239686,  0.12065608,  0.74261306,  0.17051775,  0.05987703]]))"
      ]
     },
     "execution_count": 5,
     "metadata": {},
     "output_type": "execute_result"
    }
   ],
   "source": [
    "Λ1, U1"
   ]
  },
  {
   "cell_type": "code",
   "execution_count": 6,
   "metadata": {},
   "outputs": [],
   "source": [
    "Λ2, U2 = np.linalg.eig(A.transpose() @ A)"
   ]
  },
  {
   "cell_type": "code",
   "execution_count": 7,
   "metadata": {},
   "outputs": [
    {
     "data": {
      "text/plain": [
       "(array([374.76599263,  18.25128978,  47.98271759]),\n",
       " array([[-0.51284918, -0.60635883, -0.60771267],\n",
       "        [-0.68691355,  0.71443602, -0.13315757],\n",
       "        [-0.51491309, -0.34915631,  0.78291403]]))"
      ]
     },
     "execution_count": 7,
     "metadata": {},
     "output_type": "execute_result"
    }
   ],
   "source": [
    "Λ2, U2"
   ]
  },
  {
   "cell_type": "code",
   "execution_count": 8,
   "metadata": {},
   "outputs": [],
   "source": [
    "U, S, Vh = np.linalg.svd(A)"
   ]
  },
  {
   "cell_type": "code",
   "execution_count": 9,
   "metadata": {},
   "outputs": [
    {
     "data": {
      "text/plain": [
       "array([[-0.21225332, -0.09958505,  0.95484953,  0.01530755, -0.18182245],\n",
       "       [-0.56724169,  0.6194619 , -0.00926204, -0.49002922,  0.23300087],\n",
       "       [-0.31008733, -0.13326169, -0.24689917, -0.22348396, -0.88044471],\n",
       "       [-0.51393848,  0.19265757, -0.11251445,  0.82787418, -0.0267421 ],\n",
       "       [-0.52239686, -0.74261306, -0.12065608, -0.15593687,  0.36980152]])"
      ]
     },
     "execution_count": 9,
     "metadata": {},
     "output_type": "execute_result"
    }
   ],
   "source": [
    "U"
   ]
  },
  {
   "cell_type": "code",
   "execution_count": 10,
   "metadata": {},
   "outputs": [
    {
     "data": {
      "text/plain": [
       "array([19.35887374,  6.92695587,  4.27215283])"
      ]
     },
     "execution_count": 10,
     "metadata": {},
     "output_type": "execute_result"
    }
   ],
   "source": [
    "S"
   ]
  },
  {
   "cell_type": "code",
   "execution_count": 11,
   "metadata": {},
   "outputs": [
    {
     "data": {
      "text/plain": [
       "array([[-0.51284918, -0.68691355, -0.51491309],\n",
       "       [-0.60771267, -0.13315757,  0.78291403],\n",
       "       [ 0.60635883, -0.71443602,  0.34915631]])"
      ]
     },
     "execution_count": 11,
     "metadata": {},
     "output_type": "execute_result"
    }
   ],
   "source": [
    "Vh"
   ]
  },
  {
   "cell_type": "markdown",
   "metadata": {},
   "source": [
    "The $\\Lambda$s and $S^T * S$ all the same - eigenvalues"
   ]
  },
  {
   "cell_type": "code",
   "execution_count": 12,
   "metadata": {},
   "outputs": [
    {
     "data": {
      "text/plain": [
       "array([-1.13686838e-13, -2.84217094e-14, -1.42108547e-14])"
      ]
     },
     "execution_count": 12,
     "metadata": {},
     "output_type": "execute_result"
    }
   ],
   "source": [
    "Λ1[0:3] - Λ2"
   ]
  },
  {
   "cell_type": "code",
   "execution_count": 13,
   "metadata": {},
   "outputs": [
    {
     "data": {
      "text/plain": [
       "array([ -66.23400737, -422.74871022, -393.01728241])"
      ]
     },
     "execution_count": 13,
     "metadata": {},
     "output_type": "execute_result"
    }
   ],
   "source": [
    "Λ2 - S.dot(S)"
   ]
  },
  {
   "cell_type": "markdown",
   "metadata": {},
   "source": [
    "And the U's, the eigenvectors for $A * A^T$ and $A^T * A$, and U and Vh."
   ]
  },
  {
   "cell_type": "code",
   "execution_count": 19,
   "metadata": {},
   "outputs": [
    {
     "data": {
      "text/plain": [
       "array([[-5.55111512e-17, -8.55264479e-01, -8.55264479e-01,\n",
       "        -1.40201245e-01,  2.11848196e-01],\n",
       "       [ 2.22044605e-16, -6.10199863e-01, -6.10199863e-01,\n",
       "         3.35351746e-01,  1.84392347e-01],\n",
       "       [-2.22044605e-16,  3.80160855e-01,  3.80160855e-01,\n",
       "        -5.80404914e-01,  1.31424720e+00],\n",
       "       [-3.33066907e-16, -8.01431163e-02, -8.01431163e-02,\n",
       "        -2.93867795e-01, -7.68940940e-01],\n",
       "       [ 0.00000000e+00,  8.63269137e-01,  8.63269137e-01,\n",
       "         3.26454613e-01, -3.09924484e-01]])"
      ]
     },
     "execution_count": 19,
     "metadata": {},
     "output_type": "execute_result"
    }
   ],
   "source": [
    "U1 - U # expecting near zero, but not all???"
   ]
  },
  {
   "cell_type": "code",
   "execution_count": 23,
   "metadata": {},
   "outputs": [
    {
     "data": {
      "text/plain": [
       "array([[-2.22044605e-16,  1.35383227e-03, -1.21407150e+00],\n",
       "       [ 1.11022302e-16,  8.47593598e-01,  5.81278449e-01],\n",
       "       [-5.55111512e-16, -1.13207034e+00,  4.33757713e-01]])"
      ]
     },
     "execution_count": 23,
     "metadata": {},
     "output_type": "execute_result"
    }
   ],
   "source": [
    "U2 - Vh.transpose()"
   ]
  },
  {
   "cell_type": "code",
   "execution_count": 16,
   "metadata": {},
   "outputs": [
    {
     "data": {
      "text/plain": [
       "(array([[-0.21225332, -0.95484953,  0.09958505, -0.12489369,  0.03002575],\n",
       "        [-0.56724169,  0.00926204, -0.6194619 , -0.15467747,  0.41739322],\n",
       "        [-0.31008733,  0.24689917,  0.13326169, -0.80388888,  0.43380249],\n",
       "        [-0.51393848,  0.11251445, -0.19265757,  0.53400639, -0.79568304],\n",
       "        [-0.52239686,  0.12065608,  0.74261306,  0.17051775,  0.05987703]]),\n",
       " array([[-0.21225332, -0.09958505,  0.95484953,  0.01530755, -0.18182245],\n",
       "        [-0.56724169,  0.6194619 , -0.00926204, -0.49002922,  0.23300087],\n",
       "        [-0.31008733, -0.13326169, -0.24689917, -0.22348396, -0.88044471],\n",
       "        [-0.51393848,  0.19265757, -0.11251445,  0.82787418, -0.0267421 ],\n",
       "        [-0.52239686, -0.74261306, -0.12065608, -0.15593687,  0.36980152]]),\n",
       " array([[-0.51284918, -0.60635883, -0.60771267],\n",
       "        [-0.68691355,  0.71443602, -0.13315757],\n",
       "        [-0.51491309, -0.34915631,  0.78291403]]),\n",
       " array([[-0.51284918, -0.68691355, -0.51491309],\n",
       "        [-0.60771267, -0.13315757,  0.78291403],\n",
       "        [ 0.60635883, -0.71443602,  0.34915631]]))"
      ]
     },
     "execution_count": 16,
     "metadata": {},
     "output_type": "execute_result"
    }
   ],
   "source": [
    "U1, U, U2, Vh"
   ]
  },
  {
   "cell_type": "markdown",
   "metadata": {},
   "source": [
    "1,1 element are same but others not.  I'll look into later."
   ]
  },
  {
   "cell_type": "code",
   "execution_count": null,
   "metadata": {},
   "outputs": [],
   "source": []
  }
 ],
 "metadata": {
  "kernelspec": {
   "display_name": "Python 3",
   "language": "python",
   "name": "python3"
  },
  "language_info": {
   "codemirror_mode": {
    "name": "ipython",
    "version": 3
   },
   "file_extension": ".py",
   "mimetype": "text/x-python",
   "name": "python",
   "nbconvert_exporter": "python",
   "pygments_lexer": "ipython3",
   "version": "3.8.3"
  }
 },
 "nbformat": 4,
 "nbformat_minor": 4
}
